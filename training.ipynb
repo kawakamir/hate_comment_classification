{
 "cells": [
  {
   "cell_type": "code",
   "execution_count": 3,
   "metadata": {},
   "outputs": [],
   "source": [
    "import pandas as pd\n",
    "import numpy as np"
   ]
  },
  {
   "cell_type": "code",
   "execution_count": 5,
   "metadata": {},
   "outputs": [
    {
     "data": {
      "text/html": [
       "<div>\n",
       "<style scoped>\n",
       "    .dataframe tbody tr th:only-of-type {\n",
       "        vertical-align: middle;\n",
       "    }\n",
       "\n",
       "    .dataframe tbody tr th {\n",
       "        vertical-align: top;\n",
       "    }\n",
       "\n",
       "    .dataframe thead th {\n",
       "        text-align: right;\n",
       "    }\n",
       "</style>\n",
       "<table border=\"1\" class=\"dataframe\">\n",
       "  <thead>\n",
       "    <tr style=\"text-align: right;\">\n",
       "      <th></th>\n",
       "      <th>Unnamed: 0</th>\n",
       "      <th>count</th>\n",
       "      <th>hate_speech</th>\n",
       "      <th>offensive_language</th>\n",
       "      <th>neither</th>\n",
       "      <th>class</th>\n",
       "      <th>tweet</th>\n",
       "    </tr>\n",
       "  </thead>\n",
       "  <tbody>\n",
       "    <tr>\n",
       "      <th>0</th>\n",
       "      <td>0</td>\n",
       "      <td>3</td>\n",
       "      <td>0</td>\n",
       "      <td>0</td>\n",
       "      <td>3</td>\n",
       "      <td>2</td>\n",
       "      <td>!!! RT @mayasolovely: As a woman you shouldn't...</td>\n",
       "    </tr>\n",
       "    <tr>\n",
       "      <th>1</th>\n",
       "      <td>1</td>\n",
       "      <td>3</td>\n",
       "      <td>0</td>\n",
       "      <td>3</td>\n",
       "      <td>0</td>\n",
       "      <td>1</td>\n",
       "      <td>!!!!! RT @mleew17: boy dats cold...tyga dwn ba...</td>\n",
       "    </tr>\n",
       "    <tr>\n",
       "      <th>2</th>\n",
       "      <td>2</td>\n",
       "      <td>3</td>\n",
       "      <td>0</td>\n",
       "      <td>3</td>\n",
       "      <td>0</td>\n",
       "      <td>1</td>\n",
       "      <td>!!!!!!! RT @UrKindOfBrand Dawg!!!! RT @80sbaby...</td>\n",
       "    </tr>\n",
       "    <tr>\n",
       "      <th>3</th>\n",
       "      <td>3</td>\n",
       "      <td>3</td>\n",
       "      <td>0</td>\n",
       "      <td>2</td>\n",
       "      <td>1</td>\n",
       "      <td>1</td>\n",
       "      <td>!!!!!!!!! RT @C_G_Anderson: @viva_based she lo...</td>\n",
       "    </tr>\n",
       "    <tr>\n",
       "      <th>4</th>\n",
       "      <td>4</td>\n",
       "      <td>6</td>\n",
       "      <td>0</td>\n",
       "      <td>6</td>\n",
       "      <td>0</td>\n",
       "      <td>1</td>\n",
       "      <td>!!!!!!!!!!!!! RT @ShenikaRoberts: The shit you...</td>\n",
       "    </tr>\n",
       "  </tbody>\n",
       "</table>\n",
       "</div>"
      ],
      "text/plain": [
       "   Unnamed: 0  count  hate_speech  offensive_language  neither  class  \\\n",
       "0           0      3            0                   0        3      2   \n",
       "1           1      3            0                   3        0      1   \n",
       "2           2      3            0                   3        0      1   \n",
       "3           3      3            0                   2        1      1   \n",
       "4           4      6            0                   6        0      1   \n",
       "\n",
       "                                               tweet  \n",
       "0  !!! RT @mayasolovely: As a woman you shouldn't...  \n",
       "1  !!!!! RT @mleew17: boy dats cold...tyga dwn ba...  \n",
       "2  !!!!!!! RT @UrKindOfBrand Dawg!!!! RT @80sbaby...  \n",
       "3  !!!!!!!!! RT @C_G_Anderson: @viva_based she lo...  \n",
       "4  !!!!!!!!!!!!! RT @ShenikaRoberts: The shit you...  "
      ]
     },
     "execution_count": 5,
     "metadata": {},
     "output_type": "execute_result"
    }
   ],
   "source": [
    "df = pd.read_csv(\"labeled_data.csv\")\n",
    "df.head()"
   ]
  },
  {
   "cell_type": "code",
   "execution_count": 12,
   "metadata": {},
   "outputs": [
    {
     "name": "stdout",
     "output_type": "stream",
     "text": [
      "<class 'pandas.core.frame.DataFrame'>\n",
      "RangeIndex: 24783 entries, 0 to 24782\n",
      "Data columns (total 7 columns):\n",
      " #   Column              Non-Null Count  Dtype \n",
      "---  ------              --------------  ----- \n",
      " 0   Unnamed: 0          24783 non-null  int64 \n",
      " 1   count               24783 non-null  int64 \n",
      " 2   hate_speech         24783 non-null  int64 \n",
      " 3   offensive_language  24783 non-null  int64 \n",
      " 4   neither             24783 non-null  int64 \n",
      " 5   class               24783 non-null  int64 \n",
      " 6   tweet               24783 non-null  object\n",
      "dtypes: int64(6), object(1)\n",
      "memory usage: 1.3+ MB\n"
     ]
    }
   ],
   "source": [
    "df.info()"
   ]
  },
  {
   "cell_type": "code",
   "execution_count": 6,
   "metadata": {},
   "outputs": [],
   "source": [
    "tweet = df[\"tweet\"]"
   ]
  },
  {
   "cell_type": "code",
   "execution_count": 7,
   "metadata": {},
   "outputs": [],
   "source": [
    "from sklearn.feature_extraction.text import CountVectorizer"
   ]
  },
  {
   "cell_type": "code",
   "execution_count": 8,
   "metadata": {},
   "outputs": [],
   "source": [
    "vectorizer = CountVectorizer(min_df=20)"
   ]
  },
  {
   "cell_type": "code",
   "execution_count": 9,
   "metadata": {},
   "outputs": [],
   "source": [
    "x = vectorizer.fit_transform(tweet)"
   ]
  },
  {
   "cell_type": "code",
   "execution_count": 10,
   "metadata": {},
   "outputs": [],
   "source": [
    "x = x.toarray()"
   ]
  },
  {
   "cell_type": "code",
   "execution_count": 14,
   "metadata": {},
   "outputs": [],
   "source": [
    "x = x.astype(\"float32\")"
   ]
  },
  {
   "cell_type": "code",
   "execution_count": 13,
   "metadata": {},
   "outputs": [
    {
     "data": {
      "text/plain": [
       "array([0, 1, 2], dtype=int32)"
      ]
     },
     "execution_count": 13,
     "metadata": {},
     "output_type": "execute_result"
    }
   ],
   "source": [
    "labels = df[\"class\"]\n",
    "t = labels.astype(\"int32\")\n",
    "np.unique(t)"
   ]
  },
  {
   "cell_type": "code",
   "execution_count": 15,
   "metadata": {},
   "outputs": [],
   "source": [
    "from sklearn.model_selection import train_test_split\n",
    "x_train, x_test, t_train, t_test = train_test_split(x, t, train_size=0.7, random_state=0)"
   ]
  },
  {
   "cell_type": "code",
   "execution_count": 16,
   "metadata": {},
   "outputs": [],
   "source": [
    "import tensorflow as tf"
   ]
  },
  {
   "cell_type": "code",
   "execution_count": 17,
   "metadata": {},
   "outputs": [],
   "source": [
    "_, n_input = x_train.shape"
   ]
  },
  {
   "cell_type": "code",
   "execution_count": 18,
   "metadata": {},
   "outputs": [],
   "source": [
    "n_output = len(np.unique(t_test))"
   ]
  },
  {
   "cell_type": "code",
   "execution_count": 19,
   "metadata": {},
   "outputs": [],
   "source": [
    "from tensorflow.keras import models, layers"
   ]
  },
  {
   "cell_type": "code",
   "execution_count": 23,
   "metadata": {},
   "outputs": [],
   "source": [
    "total = len(df)\n",
    "class_weight = {\n",
    "    0: total/len(df[df[\"class\"] == 0]),\n",
    "    1: total/len(df[df[\"class\"] == 1]),\n",
    "    2: total/len(df[df[\"class\"] == 2]),\n",
    "}"
   ]
  },
  {
   "cell_type": "code",
   "execution_count": 24,
   "metadata": {},
   "outputs": [],
   "source": [
    "model = models.Sequential([\n",
    "    layers.Dense(200, input_shape=(n_input, ), activation=\"relu\"),\n",
    "    layers.Dense(n_output, activation=\"softmax\")\n",
    "])\n",
    "\n",
    "optimizer = tf.keras.optimizers.SGD(lr=0.01)\n",
    "model.compile(loss=\"sparse_categorical_crossentropy\",\n",
    "             optimizer=optimizer,\n",
    "             metrics=[\"accuracy\"])"
   ]
  },
  {
   "cell_type": "code",
   "execution_count": 25,
   "metadata": {},
   "outputs": [
    {
     "name": "stdout",
     "output_type": "stream",
     "text": [
      "Epoch 1/40\n",
      "136/136 [==============================] - 11s 78ms/step - loss: 3.1855 - accuracy: 0.4596 - val_loss: 0.9959 - val_accuracy: 0.6582\n",
      "Epoch 2/40\n",
      "136/136 [==============================] - 31s 231ms/step - loss: 2.9119 - accuracy: 0.6721 - val_loss: 0.9088 - val_accuracy: 0.6812\n",
      "Epoch 3/40\n",
      "136/136 [==============================] - 30s 224ms/step - loss: 2.6318 - accuracy: 0.6958 - val_loss: 0.7869 - val_accuracy: 0.7431A: 15s - l - - ETA: 5s - loss: 2.6603 -  - ETA: 3s\n",
      "Epoch 4/40\n",
      "136/136 [==============================] - 25s 181ms/step - loss: 2.3811 - accuracy: 0.7431 - val_loss: 0.7417 - val_accuracy: 0.7486\n",
      "Epoch 5/40\n",
      "136/136 [==============================] - 22s 159ms/step - loss: 2.1685 - accuracy: 0.7706 - val_loss: 0.6678 - val_accuracy: 0.7878\n",
      "Epoch 6/40\n",
      "136/136 [==============================] - 22s 158ms/step - loss: 1.9936 - accuracy: 0.7918 - val_loss: 0.6454 - val_accuracy: 0.7938\n",
      "Epoch 7/40\n",
      "136/136 [==============================] - 20s 150ms/step - loss: 1.8503 - accuracy: 0.8036 - val_loss: 0.5994 - val_accuracy: 0.8083\n",
      "Epoch 8/40\n",
      "136/136 [==============================] - 21s 152ms/step - loss: 1.7363 - accuracy: 0.8085 - val_loss: 0.6000 - val_accuracy: 0.8052\n",
      "Epoch 9/40\n",
      "136/136 [==============================] - 2s 13ms/step - loss: 1.6431 - accuracy: 0.8125 - val_loss: 0.5732 - val_accuracy: 0.8130\n",
      "Epoch 10/40\n",
      "136/136 [==============================] - 2s 14ms/step - loss: 1.5689 - accuracy: 0.8142 - val_loss: 0.5499 - val_accuracy: 0.8155\n",
      "Epoch 11/40\n",
      "136/136 [==============================] - 3s 21ms/step - loss: 1.5071 - accuracy: 0.8187 - val_loss: 0.5711 - val_accuracy: 0.8039\n",
      "Epoch 12/40\n",
      "136/136 [==============================] - 4s 32ms/step - loss: 1.4532 - accuracy: 0.8183 - val_loss: 0.5262 - val_accuracy: 0.8171\n",
      "Epoch 13/40\n",
      "136/136 [==============================] - 26s 190ms/step - loss: 1.4072 - accuracy: 0.8215 - val_loss: 0.5295 - val_accuracy: 0.8143\n",
      "Epoch 14/40\n",
      "136/136 [==============================] - 25s 181ms/step - loss: 1.3661 - accuracy: 0.8222 - val_loss: 0.5275 - val_accuracy: 0.8151\n",
      "Epoch 15/40\n",
      "136/136 [==============================] - 7s 52ms/step - loss: 1.3304 - accuracy: 0.8248 - val_loss: 0.4978 - val_accuracy: 0.8243\n",
      "Epoch 16/40\n",
      "136/136 [==============================] - 27s 195ms/step - loss: 1.2965 - accuracy: 0.8272 - val_loss: 0.4933 - val_accuracy: 0.82541.2824 - accuracy: 0.827 - ETA: 19s - loss: 1.2889 - accuracy:\n",
      "Epoch 17/40\n",
      "136/136 [==============================] - 22s 161ms/step - loss: 1.2655 - accuracy: 0.8279 - val_loss: 0.4645 - val_accuracy: 0.8354\n",
      "Epoch 18/40\n",
      "136/136 [==============================] - 22s 161ms/step - loss: 1.2366 - accuracy: 0.8334 - val_loss: 0.4796 - val_accuracy: 0.8277\n",
      "Epoch 19/40\n",
      "136/136 [==============================] - 18s 135ms/step - loss: 1.2110 - accuracy: 0.8328 - val_loss: 0.4712 - val_accuracy: 0.8313\n",
      "Epoch 20/40\n",
      "136/136 [==============================] - 23s 166ms/step - loss: 1.1844 - accuracy: 0.8371 - val_loss: 0.5165 - val_accuracy: 0.8149\n",
      "Epoch 21/40\n",
      "136/136 [==============================] - 22s 164ms/step - loss: 1.1637 - accuracy: 0.8370 - val_loss: 0.4934 - val_accuracy: 0.8252\n",
      "Epoch 22/40\n",
      "136/136 [==============================] - 18s 136ms/step - loss: 1.1405 - accuracy: 0.8403 - val_loss: 0.5051 - val_accuracy: 0.8207\n",
      "Epoch 23/40\n",
      "136/136 [==============================] - 20s 148ms/step - loss: 1.1206 - accuracy: 0.8428 - val_loss: 0.4875 - val_accuracy: 0.8273\n",
      "Epoch 24/40\n",
      "136/136 [==============================] - 23s 170ms/step - loss: 1.0990 - accuracy: 0.8424 - val_loss: 0.4543 - val_accuracy: 0.8382\n",
      "Epoch 25/40\n",
      "136/136 [==============================] - 23s 171ms/step - loss: 1.0809 - accuracy: 0.8457 - val_loss: 0.4766 - val_accuracy: 0.8305\n",
      "Epoch 26/40\n",
      "136/136 [==============================] - 24s 178ms/step - loss: 1.0615 - accuracy: 0.8481 - val_loss: 0.4589 - val_accuracy: 0.8371\n",
      "Epoch 27/40\n",
      "136/136 [==============================] - 24s 174ms/step - loss: 1.0431 - accuracy: 0.8498 - val_loss: 0.4518 - val_accuracy: 0.8401y\n",
      "Epoch 28/40\n",
      "136/136 [==============================] - 24s 174ms/step - loss: 1.0271 - accuracy: 0.8504 - val_loss: 0.4496 - val_accuracy: 0.8394\n",
      "Epoch 29/40\n",
      "136/136 [==============================] - 20s 149ms/step - loss: 1.0118 - accuracy: 0.8538 - val_loss: 0.4686 - val_accuracy: 0.8331\n",
      "Epoch 30/40\n",
      "136/136 [==============================] - 24s 178ms/step - loss: 0.9955 - accuracy: 0.8561 - val_loss: 0.4804 - val_accuracy: 0.8288\n",
      "Epoch 31/40\n",
      "136/136 [==============================] - 24s 179ms/step - loss: 0.9806 - accuracy: 0.8572 - val_loss: 0.4749 - val_accuracy: 0.8303\n",
      "Epoch 32/40\n",
      "136/136 [==============================] - 23s 172ms/step - loss: 0.9639 - accuracy: 0.8582 - val_loss: 0.4284 - val_accuracy: 0.8475\n",
      "Epoch 33/40\n",
      "136/136 [==============================] - 25s 180ms/step - loss: 0.9499 - accuracy: 0.8618 - val_loss: 0.4419 - val_accuracy: 0.8417A: 1s - loss: 0.9556 - \n",
      "Epoch 34/40\n",
      "136/136 [==============================] - 2s 16ms/step - loss: 0.9350 - accuracy: 0.8622 - val_loss: 0.4241 - val_accuracy: 0.8492\n",
      "Epoch 35/40\n",
      "136/136 [==============================] - 24s 179ms/step - loss: 0.9230 - accuracy: 0.8657 - val_loss: 0.4785 - val_accuracy: 0.8289\n",
      "Epoch 36/40\n",
      "136/136 [==============================] - 24s 179ms/step - loss: 0.9094 - accuracy: 0.8653 - val_loss: 0.4509 - val_accuracy: 0.8390\n",
      "Epoch 37/40\n",
      "136/136 [==============================] - 24s 179ms/step - loss: 0.8954 - accuracy: 0.8684 - val_loss: 0.4657 - val_accuracy: 0.8340: 0.8828 - accu\n",
      "Epoch 38/40\n",
      "136/136 [==============================] - 2s 15ms/step - loss: 0.8830 - accuracy: 0.8671 - val_loss: 0.4418 - val_accuracy: 0.8430\n",
      "Epoch 39/40\n",
      "136/136 [==============================] - 25s 184ms/step - loss: 0.8713 - accuracy: 0.8693 - val_loss: 0.4296 - val_accuracy: 0.8483\n",
      "Epoch 40/40\n",
      "136/136 [==============================] - 25s 186ms/step - loss: 0.8587 - accuracy: 0.8711 - val_loss: 0.4359 - val_accuracy: 0.8434- loss: 0.8424 - accuracy\n"
     ]
    }
   ],
   "source": [
    "history = model.fit(\n",
    "    x_train,\n",
    "    t_train,\n",
    "    batch_size=128,\n",
    "    epochs=40,\n",
    "    verbose=1,\n",
    "    validation_data=(x_test, t_test),\n",
    "    class_weight=class_weight\n",
    ")"
   ]
  },
  {
   "cell_type": "code",
   "execution_count": 26,
   "metadata": {},
   "outputs": [],
   "source": [
    "import matplotlib.pyplot as plt"
   ]
  },
  {
   "cell_type": "code",
   "execution_count": 30,
   "metadata": {},
   "outputs": [
    {
     "data": {
      "text/html": [
       "<div>\n",
       "<style scoped>\n",
       "    .dataframe tbody tr th:only-of-type {\n",
       "        vertical-align: middle;\n",
       "    }\n",
       "\n",
       "    .dataframe tbody tr th {\n",
       "        vertical-align: top;\n",
       "    }\n",
       "\n",
       "    .dataframe thead th {\n",
       "        text-align: right;\n",
       "    }\n",
       "</style>\n",
       "<table border=\"1\" class=\"dataframe\">\n",
       "  <thead>\n",
       "    <tr style=\"text-align: right;\">\n",
       "      <th></th>\n",
       "      <th>loss</th>\n",
       "      <th>accuracy</th>\n",
       "      <th>val_loss</th>\n",
       "      <th>val_accuracy</th>\n",
       "    </tr>\n",
       "  </thead>\n",
       "  <tbody>\n",
       "    <tr>\n",
       "      <th>37</th>\n",
       "      <td>0.882964</td>\n",
       "      <td>0.867132</td>\n",
       "      <td>0.441804</td>\n",
       "      <td>0.843040</td>\n",
       "    </tr>\n",
       "    <tr>\n",
       "      <th>38</th>\n",
       "      <td>0.871344</td>\n",
       "      <td>0.869322</td>\n",
       "      <td>0.429575</td>\n",
       "      <td>0.848285</td>\n",
       "    </tr>\n",
       "    <tr>\n",
       "      <th>39</th>\n",
       "      <td>0.858672</td>\n",
       "      <td>0.871109</td>\n",
       "      <td>0.435944</td>\n",
       "      <td>0.843443</td>\n",
       "    </tr>\n",
       "  </tbody>\n",
       "</table>\n",
       "</div>"
      ],
      "text/plain": [
       "        loss  accuracy  val_loss  val_accuracy\n",
       "37  0.882964  0.867132  0.441804      0.843040\n",
       "38  0.871344  0.869322  0.429575      0.848285\n",
       "39  0.858672  0.871109  0.435944      0.843443"
      ]
     },
     "execution_count": 30,
     "metadata": {},
     "output_type": "execute_result"
    }
   ],
   "source": [
    "results = pd.DataFrame(history.history)\n",
    "results.tail(3)"
   ]
  },
  {
   "cell_type": "code",
   "execution_count": 31,
   "metadata": {},
   "outputs": [
    {
     "data": {
      "text/plain": [
       "Text(0.5, 0, 'epochs')"
      ]
     },
     "execution_count": 31,
     "metadata": {},
     "output_type": "execute_result"
    },
    {
     "data": {
      "image/png": "[encoded data removed]",
      "text/plain": [
       "<Figure size 432x288 with 1 Axes>"
      ]
     },
     "metadata": {
      "needs_background": "light"
     },
     "output_type": "display_data"
    }
   ],
   "source": [
    "results[[\"loss\", \"val_loss\"]].plot(title=\"loss\")\n",
    "plt.xlabel(\"epochs\")"
   ]
  },
  {
   "cell_type": "code",
   "execution_count": 32,
   "metadata": {},
   "outputs": [
    {
     "data": {
      "text/plain": [
       "Text(0.5, 0, 'epochs')"
      ]
     },
     "execution_count": 32,
     "metadata": {},
     "output_type": "execute_result"
    },
    {
     "data": {
      "image/png": "[encoded data removed]",
      "text/plain": [
       "<Figure size 432x288 with 1 Axes>"
      ]
     },
     "metadata": {
      "needs_background": "light"
     },
     "output_type": "display_data"
    }
   ],
   "source": [
    "results[[\"accuracy\", \"val_accuracy\"]].plot(title=\"metric\")\n",
    "plt.xlabel(\"epochs\")"
   ]
  },
  {
   "cell_type": "code",
   "execution_count": null,
   "metadata": {},
   "outputs": [],
   "source": []
  }
 ],
 "metadata": {
  "kernelspec": {
   "display_name": "Python 3",
   "language": "python",
   "name": "python3"
  },
  "language_info": {
   "codemirror_mode": {
    "name": "ipython",
    "version": 3
   },
   "file_extension": ".py",
   "mimetype": "text/x-python",
   "name": "python",
   "nbconvert_exporter": "python",
   "pygments_lexer": "ipython3",
   "version": "3.7.6"
  }
 },
 "nbformat": 4,
 "nbformat_minor": 4
}
