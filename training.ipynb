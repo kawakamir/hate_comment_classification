{
 "cells": [
  {
   "cell_type": "code",
   "execution_count": 1,
   "metadata": {},
   "outputs": [],
   "source": [
    "import re\n",
    "import pandas as pd\n",
    "import numpy as np\n",
    "from nltk.corpus import stopwords\n",
    "from nltk.stem.porter import PorterStemmer\n",
    "from sklearn.feature_extraction.text import CountVectorizer\n",
    "from sklearn.model_selection import train_test_split\n",
    "import tensorflow as tf\n",
    "from tensorflow.keras import models, layers\n",
    "import matplotlib.pyplot as plt"
   ]
  },
  {
   "cell_type": "code",
   "execution_count": 2,
   "metadata": {},
   "outputs": [
    {
     "data": {
      "text/html": [
       "<div>\n",
       "<style scoped>\n",
       "    .dataframe tbody tr th:only-of-type {\n",
       "        vertical-align: middle;\n",
       "    }\n",
       "\n",
       "    .dataframe tbody tr th {\n",
       "        vertical-align: top;\n",
       "    }\n",
       "\n",
       "    .dataframe thead th {\n",
       "        text-align: right;\n",
       "    }\n",
       "</style>\n",
       "<table border=\"1\" class=\"dataframe\">\n",
       "  <thead>\n",
       "    <tr style=\"text-align: right;\">\n",
       "      <th></th>\n",
       "      <th>Unnamed: 0</th>\n",
       "      <th>count</th>\n",
       "      <th>hate_speech</th>\n",
       "      <th>offensive_language</th>\n",
       "      <th>neither</th>\n",
       "      <th>class</th>\n",
       "      <th>tweet</th>\n",
       "    </tr>\n",
       "  </thead>\n",
       "  <tbody>\n",
       "    <tr>\n",
       "      <th>0</th>\n",
       "      <td>0</td>\n",
       "      <td>3</td>\n",
       "      <td>0</td>\n",
       "      <td>0</td>\n",
       "      <td>3</td>\n",
       "      <td>2</td>\n",
       "      <td>!!! RT @mayasolovely: As a woman you shouldn't...</td>\n",
       "    </tr>\n",
       "    <tr>\n",
       "      <th>1</th>\n",
       "      <td>1</td>\n",
       "      <td>3</td>\n",
       "      <td>0</td>\n",
       "      <td>3</td>\n",
       "      <td>0</td>\n",
       "      <td>1</td>\n",
       "      <td>!!!!! RT @mleew17: boy dats cold...tyga dwn ba...</td>\n",
       "    </tr>\n",
       "    <tr>\n",
       "      <th>2</th>\n",
       "      <td>2</td>\n",
       "      <td>3</td>\n",
       "      <td>0</td>\n",
       "      <td>3</td>\n",
       "      <td>0</td>\n",
       "      <td>1</td>\n",
       "      <td>!!!!!!! RT @UrKindOfBrand Dawg!!!! RT @80sbaby...</td>\n",
       "    </tr>\n",
       "    <tr>\n",
       "      <th>3</th>\n",
       "      <td>3</td>\n",
       "      <td>3</td>\n",
       "      <td>0</td>\n",
       "      <td>2</td>\n",
       "      <td>1</td>\n",
       "      <td>1</td>\n",
       "      <td>!!!!!!!!! RT @C_G_Anderson: @viva_based she lo...</td>\n",
       "    </tr>\n",
       "    <tr>\n",
       "      <th>4</th>\n",
       "      <td>4</td>\n",
       "      <td>6</td>\n",
       "      <td>0</td>\n",
       "      <td>6</td>\n",
       "      <td>0</td>\n",
       "      <td>1</td>\n",
       "      <td>!!!!!!!!!!!!! RT @ShenikaRoberts: The shit you...</td>\n",
       "    </tr>\n",
       "  </tbody>\n",
       "</table>\n",
       "</div>"
      ],
      "text/plain": [
       "   Unnamed: 0  count  hate_speech  offensive_language  neither  class  \\\n",
       "0           0      3            0                   0        3      2   \n",
       "1           1      3            0                   3        0      1   \n",
       "2           2      3            0                   3        0      1   \n",
       "3           3      3            0                   2        1      1   \n",
       "4           4      6            0                   6        0      1   \n",
       "\n",
       "                                               tweet  \n",
       "0  !!! RT @mayasolovely: As a woman you shouldn't...  \n",
       "1  !!!!! RT @mleew17: boy dats cold...tyga dwn ba...  \n",
       "2  !!!!!!! RT @UrKindOfBrand Dawg!!!! RT @80sbaby...  \n",
       "3  !!!!!!!!! RT @C_G_Anderson: @viva_based she lo...  \n",
       "4  !!!!!!!!!!!!! RT @ShenikaRoberts: The shit you...  "
      ]
     },
     "execution_count": 2,
     "metadata": {},
     "output_type": "execute_result"
    }
   ],
   "source": [
    "df = pd.read_csv(\"labeled_data.csv\")\n",
    "df.head()"
   ]
  },
  {
   "cell_type": "code",
   "execution_count": 3,
   "metadata": {},
   "outputs": [
    {
     "name": "stdout",
     "output_type": "stream",
     "text": [
      "<class 'pandas.core.frame.DataFrame'>\n",
      "RangeIndex: 24783 entries, 0 to 24782\n",
      "Data columns (total 7 columns):\n",
      " #   Column              Non-Null Count  Dtype \n",
      "---  ------              --------------  ----- \n",
      " 0   Unnamed: 0          24783 non-null  int64 \n",
      " 1   count               24783 non-null  int64 \n",
      " 2   hate_speech         24783 non-null  int64 \n",
      " 3   offensive_language  24783 non-null  int64 \n",
      " 4   neither             24783 non-null  int64 \n",
      " 5   class               24783 non-null  int64 \n",
      " 6   tweet               24783 non-null  object\n",
      "dtypes: int64(6), object(1)\n",
      "memory usage: 1.3+ MB\n"
     ]
    }
   ],
   "source": [
    "df.info()"
   ]
  },
  {
   "cell_type": "code",
   "execution_count": 4,
   "metadata": {},
   "outputs": [],
   "source": [
    "tweet = df[\"tweet\"]"
   ]
  },
  {
   "cell_type": "code",
   "execution_count": 5,
   "metadata": {},
   "outputs": [],
   "source": [
    "corpus = []\n",
    "for i in range(len(df)):\n",
    "  review = re.sub('[^a-zA-Z]', ' ', tweet[i])\n",
    "  review = review.lower()\n",
    "  review = review.split()\n",
    "  ps = PorterStemmer()\n",
    "  all_stopwords = stopwords.words('english')\n",
    "  all_stopwords.remove('not')\n",
    "  review = [ps.stem(word) for word in review if not word in set(all_stopwords)]\n",
    "  review = ' '.join(review)\n",
    "  corpus.append(review)"
   ]
  },
  {
   "cell_type": "code",
   "execution_count": 20,
   "metadata": {},
   "outputs": [],
   "source": [
    "vectorizer = CountVectorizer(max_features = 2000)"
   ]
  },
  {
   "cell_type": "code",
   "execution_count": 21,
   "metadata": {},
   "outputs": [],
   "source": [
    "x = vectorizer.fit_transform(corpus)"
   ]
  },
  {
   "cell_type": "code",
   "execution_count": 22,
   "metadata": {},
   "outputs": [],
   "source": [
    "x = x.toarray()"
   ]
  },
  {
   "cell_type": "code",
   "execution_count": 23,
   "metadata": {},
   "outputs": [],
   "source": [
    "x = x.astype(\"float32\")"
   ]
  },
  {
   "cell_type": "code",
   "execution_count": 24,
   "metadata": {},
   "outputs": [
    {
     "data": {
      "text/plain": [
       "array([0, 1, 2], dtype=int32)"
      ]
     },
     "execution_count": 24,
     "metadata": {},
     "output_type": "execute_result"
    }
   ],
   "source": [
    "labels = df[\"class\"]\n",
    "t = labels.astype(\"int32\")\n",
    "np.unique(t)"
   ]
  },
  {
   "cell_type": "code",
   "execution_count": 25,
   "metadata": {},
   "outputs": [],
   "source": [
    "\n",
    "x_train, x_test, t_train, t_test = train_test_split(x, t, train_size=0.7, random_state=0)"
   ]
  },
  {
   "cell_type": "code",
   "execution_count": 26,
   "metadata": {},
   "outputs": [],
   "source": [
    "_, n_input = x_train.shape"
   ]
  },
  {
   "cell_type": "code",
   "execution_count": 27,
   "metadata": {},
   "outputs": [],
   "source": [
    "n_output = len(np.unique(t_test))"
   ]
  },
  {
   "cell_type": "code",
   "execution_count": 28,
   "metadata": {},
   "outputs": [],
   "source": [
    "total = len(df)\n",
    "class_weight = {\n",
    "    0: total/len(df[df[\"class\"] == 0]),\n",
    "    1: total/len(df[df[\"class\"] == 1]),\n",
    "    2: total/len(df[df[\"class\"] == 2]),\n",
    "}"
   ]
  },
  {
   "cell_type": "code",
   "execution_count": 29,
   "metadata": {},
   "outputs": [],
   "source": [
    "model = models.Sequential([\n",
    "    layers.Dense(200, input_shape=(n_input, ), activation=\"relu\"),\n",
    "    layers.Dense(n_output, activation=\"softmax\")\n",
    "])\n",
    "\n",
    "optimizer = tf.keras.optimizers.SGD(lr=0.01)\n",
    "model.compile(loss=\"sparse_categorical_crossentropy\",\n",
    "             optimizer=optimizer,\n",
    "             metrics=[\"accuracy\"])"
   ]
  },
  {
   "cell_type": "code",
   "execution_count": 30,
   "metadata": {},
   "outputs": [
    {
     "name": "stdout",
     "output_type": "stream",
     "text": [
      "Epoch 1/40\n",
      "136/136 [==============================] - 2s 13ms/step - loss: 3.1771 - accuracy: 0.5643 - val_loss: 0.9444 - val_accuracy: 0.7709\n",
      "Epoch 2/40\n",
      "136/136 [==============================] - 1s 10ms/step - loss: 2.8392 - accuracy: 0.7710 - val_loss: 0.8209 - val_accuracy: 0.7638\n",
      "Epoch 3/40\n",
      "136/136 [==============================] - 2s 12ms/step - loss: 2.4963 - accuracy: 0.7751 - val_loss: 0.7294 - val_accuracy: 0.7859\n",
      "Epoch 4/40\n",
      "136/136 [==============================] - 1s 11ms/step - loss: 2.2085 - accuracy: 0.7988 - val_loss: 0.6841 - val_accuracy: 0.7962\n",
      "Epoch 5/40\n",
      "136/136 [==============================] - 1s 11ms/step - loss: 1.9843 - accuracy: 0.8110 - val_loss: 0.6258 - val_accuracy: 0.8116\n",
      "Epoch 6/40\n",
      "136/136 [==============================] - 1s 10ms/step - loss: 1.8169 - accuracy: 0.8150 - val_loss: 0.6018 - val_accuracy: 0.8098\n",
      "Epoch 7/40\n",
      "136/136 [==============================] - 1s 10ms/step - loss: 1.6936 - accuracy: 0.8142 - val_loss: 0.5680 - val_accuracy: 0.8140\n",
      "Epoch 8/40\n",
      "136/136 [==============================] - 2s 11ms/step - loss: 1.6008 - accuracy: 0.8149 - val_loss: 0.5230 - val_accuracy: 0.8219\n",
      "Epoch 9/40\n",
      "136/136 [==============================] - 1s 11ms/step - loss: 1.5288 - accuracy: 0.8169 - val_loss: 0.5140 - val_accuracy: 0.8208\n",
      "Epoch 10/40\n",
      "136/136 [==============================] - 1s 9ms/step - loss: 1.4722 - accuracy: 0.8174 - val_loss: 0.5213 - val_accuracy: 0.8159\n",
      "Epoch 11/40\n",
      "136/136 [==============================] - 1s 9ms/step - loss: 1.4223 - accuracy: 0.8189 - val_loss: 0.4957 - val_accuracy: 0.8226\n",
      "Epoch 12/40\n",
      "136/136 [==============================] - 2s 11ms/step - loss: 1.3813 - accuracy: 0.8226 - val_loss: 0.4971 - val_accuracy: 0.8206\n",
      "Epoch 13/40\n",
      "136/136 [==============================] - 1s 11ms/step - loss: 1.3440 - accuracy: 0.8257 - val_loss: 0.5315 - val_accuracy: 0.8066\n",
      "Epoch 14/40\n",
      "136/136 [==============================] - 1s 10ms/step - loss: 1.3114 - accuracy: 0.8243 - val_loss: 0.4828 - val_accuracy: 0.8246\n",
      "Epoch 15/40\n",
      "136/136 [==============================] - 1s 10ms/step - loss: 1.2791 - accuracy: 0.8282 - val_loss: 0.5006 - val_accuracy: 0.8180\n",
      "Epoch 16/40\n",
      "136/136 [==============================] - 1s 9ms/step - loss: 1.2523 - accuracy: 0.8282 - val_loss: 0.4710 - val_accuracy: 0.8280\n",
      "Epoch 17/40\n",
      "136/136 [==============================] - 2s 12ms/step - loss: 1.2244 - accuracy: 0.8312 - val_loss: 0.5044 - val_accuracy: 0.8160\n",
      "Epoch 18/40\n",
      "136/136 [==============================] - 1s 11ms/step - loss: 1.1994 - accuracy: 0.8338 - val_loss: 0.5070 - val_accuracy: 0.8155\n",
      "Epoch 19/40\n",
      "136/136 [==============================] - 1s 10ms/step - loss: 1.1763 - accuracy: 0.8352 - val_loss: 0.4450 - val_accuracy: 0.8402\n",
      "Epoch 20/40\n",
      "136/136 [==============================] - 1s 10ms/step - loss: 1.1576 - accuracy: 0.8401 - val_loss: 0.4737 - val_accuracy: 0.8284\n",
      "Epoch 21/40\n",
      "136/136 [==============================] - 1s 11ms/step - loss: 1.1358 - accuracy: 0.8404 - val_loss: 0.4575 - val_accuracy: 0.8350\n",
      "Epoch 22/40\n",
      "136/136 [==============================] - 2s 11ms/step - loss: 1.1172 - accuracy: 0.8423 - val_loss: 0.4794 - val_accuracy: 0.8252\n",
      "Epoch 23/40\n",
      "136/136 [==============================] - 2s 11ms/step - loss: 1.0974 - accuracy: 0.8435 - val_loss: 0.4601 - val_accuracy: 0.8344\n",
      "Epoch 24/40\n",
      "136/136 [==============================] - 1s 9ms/step - loss: 1.0810 - accuracy: 0.8447 - val_loss: 0.4780 - val_accuracy: 0.8253\n",
      "Epoch 25/40\n",
      "136/136 [==============================] - 2s 11ms/step - loss: 1.0640 - accuracy: 0.8460 - val_loss: 0.4539 - val_accuracy: 0.8378\n",
      "Epoch 26/40\n",
      "136/136 [==============================] - 2s 12ms/step - loss: 1.0468 - accuracy: 0.8491 - val_loss: 0.4478 - val_accuracy: 0.8408\n",
      "Epoch 27/40\n",
      "136/136 [==============================] - 1s 11ms/step - loss: 1.0315 - accuracy: 0.8500 - val_loss: 0.4558 - val_accuracy: 0.8382\n",
      "Epoch 28/40\n",
      "136/136 [==============================] - 1s 9ms/step - loss: 1.0161 - accuracy: 0.8510 - val_loss: 0.4251 - val_accuracy: 0.8515\n",
      "Epoch 29/40\n",
      "136/136 [==============================] - 1s 9ms/step - loss: 1.0003 - accuracy: 0.8553 - val_loss: 0.4079 - val_accuracy: 0.8581\n",
      "Epoch 30/40\n",
      "136/136 [==============================] - 2s 13ms/step - loss: 0.9872 - accuracy: 0.8584 - val_loss: 0.4410 - val_accuracy: 0.8430\n",
      "Epoch 31/40\n",
      "136/136 [==============================] - 2s 13ms/step - loss: 0.9734 - accuracy: 0.8581 - val_loss: 0.4472 - val_accuracy: 0.8412\n",
      "Epoch 32/40\n",
      "136/136 [==============================] - 1s 10ms/step - loss: 0.9592 - accuracy: 0.8591 - val_loss: 0.4190 - val_accuracy: 0.8518\n",
      "Epoch 33/40\n",
      "136/136 [==============================] - 1s 9ms/step - loss: 0.9472 - accuracy: 0.8619 - val_loss: 0.4577 - val_accuracy: 0.8351\n",
      "Epoch 34/40\n",
      "136/136 [==============================] - 1s 10ms/step - loss: 0.9329 - accuracy: 0.8635 - val_loss: 0.4141 - val_accuracy: 0.8547\n",
      "Epoch 35/40\n",
      "136/136 [==============================] - 2s 12ms/step - loss: 0.9222 - accuracy: 0.8663 - val_loss: 0.4273 - val_accuracy: 0.8495\n",
      "Epoch 36/40\n",
      "136/136 [==============================] - 2s 11ms/step - loss: 0.9097 - accuracy: 0.8671 - val_loss: 0.4270 - val_accuracy: 0.8515\n",
      "Epoch 37/40\n",
      "136/136 [==============================] - 1s 9ms/step - loss: 0.9007 - accuracy: 0.8692 - val_loss: 0.4434 - val_accuracy: 0.8441\n",
      "Epoch 38/40\n",
      "136/136 [==============================] - 1s 9ms/step - loss: 0.8888 - accuracy: 0.8675 - val_loss: 0.4107 - val_accuracy: 0.8568\n",
      "Epoch 39/40\n",
      "136/136 [==============================] - 2s 12ms/step - loss: 0.8787 - accuracy: 0.8705 - val_loss: 0.4224 - val_accuracy: 0.8526\n",
      "Epoch 40/40\n",
      "136/136 [==============================] - 1s 10ms/step - loss: 0.8670 - accuracy: 0.8722 - val_loss: 0.4317 - val_accuracy: 0.8479\n"
     ]
    }
   ],
   "source": [
    "history = model.fit(\n",
    "    x_train,\n",
    "    t_train,\n",
    "    batch_size=128,\n",
    "    epochs=40,\n",
    "    verbose=1,\n",
    "    validation_data=(x_test, t_test),\n",
    "    class_weight=class_weight\n",
    ")"
   ]
  },
  {
   "cell_type": "code",
   "execution_count": 31,
   "metadata": {},
   "outputs": [
    {
     "data": {
      "text/html": [
       "<div>\n",
       "<style scoped>\n",
       "    .dataframe tbody tr th:only-of-type {\n",
       "        vertical-align: middle;\n",
       "    }\n",
       "\n",
       "    .dataframe tbody tr th {\n",
       "        vertical-align: top;\n",
       "    }\n",
       "\n",
       "    .dataframe thead th {\n",
       "        text-align: right;\n",
       "    }\n",
       "</style>\n",
       "<table border=\"1\" class=\"dataframe\">\n",
       "  <thead>\n",
       "    <tr style=\"text-align: right;\">\n",
       "      <th></th>\n",
       "      <th>loss</th>\n",
       "      <th>accuracy</th>\n",
       "      <th>val_loss</th>\n",
       "      <th>val_accuracy</th>\n",
       "    </tr>\n",
       "  </thead>\n",
       "  <tbody>\n",
       "    <tr>\n",
       "      <th>37</th>\n",
       "      <td>0.888762</td>\n",
       "      <td>0.867478</td>\n",
       "      <td>0.410695</td>\n",
       "      <td>0.856759</td>\n",
       "    </tr>\n",
       "    <tr>\n",
       "      <th>38</th>\n",
       "      <td>0.878736</td>\n",
       "      <td>0.870533</td>\n",
       "      <td>0.422449</td>\n",
       "      <td>0.852589</td>\n",
       "    </tr>\n",
       "    <tr>\n",
       "      <th>39</th>\n",
       "      <td>0.866982</td>\n",
       "      <td>0.872204</td>\n",
       "      <td>0.431718</td>\n",
       "      <td>0.847882</td>\n",
       "    </tr>\n",
       "  </tbody>\n",
       "</table>\n",
       "</div>"
      ],
      "text/plain": [
       "        loss  accuracy  val_loss  val_accuracy\n",
       "37  0.888762  0.867478  0.410695      0.856759\n",
       "38  0.878736  0.870533  0.422449      0.852589\n",
       "39  0.866982  0.872204  0.431718      0.847882"
      ]
     },
     "execution_count": 31,
     "metadata": {},
     "output_type": "execute_result"
    }
   ],
   "source": [
    "results = pd.DataFrame(history.history)\n",
    "results.tail(3)"
   ]
  },
  {
   "cell_type": "code",
   "execution_count": 32,
   "metadata": {},
   "outputs": [
    {
     "data": {
      "text/plain": [
       "Text(0.5, 0, 'epochs')"
      ]
     },
     "execution_count": 32,
     "metadata": {},
     "output_type": "execute_result"
    },
    {
     "data": {
      "image/png": "[encoded data removed]",
      "text/plain": [
       "<Figure size 432x288 with 1 Axes>"
      ]
     },
     "metadata": {
      "needs_background": "light"
     },
     "output_type": "display_data"
    }
   ],
   "source": [
    "results[[\"loss\", \"val_loss\"]].plot(title=\"loss\")\n",
    "plt.xlabel(\"epochs\")"
   ]
  },
  {
   "cell_type": "code",
   "execution_count": 33,
   "metadata": {},
   "outputs": [
    {
     "data": {
      "text/plain": [
       "Text(0.5, 0, 'epochs')"
      ]
     },
     "execution_count": 33,
     "metadata": {},
     "output_type": "execute_result"
    },
    {
     "data": {
      "image/png": "[encoded data removed]",
      "text/plain": [
       "<Figure size 432x288 with 1 Axes>"
      ]
     },
     "metadata": {
      "needs_background": "light"
     },
     "output_type": "display_data"
    }
   ],
   "source": [
    "results[[\"accuracy\", \"val_accuracy\"]].plot(title=\"metric\")\n",
    "plt.xlabel(\"epochs\")"
   ]
  },
  {
   "cell_type": "code",
   "execution_count": null,
   "metadata": {},
   "outputs": [],
   "source": []
  }
 ],
 "metadata": {
  "kernelspec": {
   "display_name": "Python 3",
   "language": "python",
   "name": "python3"
  },
  "language_info": {
   "codemirror_mode": {
    "name": "ipython",
    "version": 3
   },
   "file_extension": ".py",
   "mimetype": "text/x-python",
   "name": "python",
   "nbconvert_exporter": "python",
   "pygments_lexer": "ipython3",
   "version": "3.7.6"
  }
 },
 "nbformat": 4,
 "nbformat_minor": 4
}
