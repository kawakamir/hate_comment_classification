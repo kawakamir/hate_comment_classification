{
 "cells": [
  {
   "cell_type": "code",
   "execution_count": 1,
   "metadata": {},
   "outputs": [],
   "source": [
    "import re\n",
    "import pandas as pd\n",
    "import numpy as np\n",
    "from nltk.corpus import stopwords\n",
    "from nltk.stem.porter import PorterStemmer\n",
    "from sklearn.feature_extraction.text import CountVectorizer\n",
    "from sklearn.model_selection import train_test_split\n",
    "import tensorflow as tf\n",
    "from tensorflow.keras import models, layers\n",
    "import matplotlib.pyplot as plt"
   ]
  },
  {
   "cell_type": "code",
   "execution_count": 2,
   "metadata": {},
   "outputs": [
    {
     "data": {
      "text/html": [
       "<div>\n",
       "<style scoped>\n",
       "    .dataframe tbody tr th:only-of-type {\n",
       "        vertical-align: middle;\n",
       "    }\n",
       "\n",
       "    .dataframe tbody tr th {\n",
       "        vertical-align: top;\n",
       "    }\n",
       "\n",
       "    .dataframe thead th {\n",
       "        text-align: right;\n",
       "    }\n",
       "</style>\n",
       "<table border=\"1\" class=\"dataframe\">\n",
       "  <thead>\n",
       "    <tr style=\"text-align: right;\">\n",
       "      <th></th>\n",
       "      <th>Unnamed: 0</th>\n",
       "      <th>count</th>\n",
       "      <th>hate_speech</th>\n",
       "      <th>offensive_language</th>\n",
       "      <th>neither</th>\n",
       "      <th>class</th>\n",
       "      <th>tweet</th>\n",
       "    </tr>\n",
       "  </thead>\n",
       "  <tbody>\n",
       "    <tr>\n",
       "      <th>0</th>\n",
       "      <td>0</td>\n",
       "      <td>3</td>\n",
       "      <td>0</td>\n",
       "      <td>0</td>\n",
       "      <td>3</td>\n",
       "      <td>2</td>\n",
       "      <td>!!! RT @mayasolovely: As a woman you shouldn't...</td>\n",
       "    </tr>\n",
       "    <tr>\n",
       "      <th>1</th>\n",
       "      <td>1</td>\n",
       "      <td>3</td>\n",
       "      <td>0</td>\n",
       "      <td>3</td>\n",
       "      <td>0</td>\n",
       "      <td>1</td>\n",
       "      <td>!!!!! RT @mleew17: boy dats cold...tyga dwn ba...</td>\n",
       "    </tr>\n",
       "    <tr>\n",
       "      <th>2</th>\n",
       "      <td>2</td>\n",
       "      <td>3</td>\n",
       "      <td>0</td>\n",
       "      <td>3</td>\n",
       "      <td>0</td>\n",
       "      <td>1</td>\n",
       "      <td>!!!!!!! RT @UrKindOfBrand Dawg!!!! RT @80sbaby...</td>\n",
       "    </tr>\n",
       "    <tr>\n",
       "      <th>3</th>\n",
       "      <td>3</td>\n",
       "      <td>3</td>\n",
       "      <td>0</td>\n",
       "      <td>2</td>\n",
       "      <td>1</td>\n",
       "      <td>1</td>\n",
       "      <td>!!!!!!!!! RT @C_G_Anderson: @viva_based she lo...</td>\n",
       "    </tr>\n",
       "    <tr>\n",
       "      <th>4</th>\n",
       "      <td>4</td>\n",
       "      <td>6</td>\n",
       "      <td>0</td>\n",
       "      <td>6</td>\n",
       "      <td>0</td>\n",
       "      <td>1</td>\n",
       "      <td>!!!!!!!!!!!!! RT @ShenikaRoberts: The shit you...</td>\n",
       "    </tr>\n",
       "  </tbody>\n",
       "</table>\n",
       "</div>"
      ],
      "text/plain": [
       "   Unnamed: 0  count  hate_speech  offensive_language  neither  class  \\\n",
       "0           0      3            0                   0        3      2   \n",
       "1           1      3            0                   3        0      1   \n",
       "2           2      3            0                   3        0      1   \n",
       "3           3      3            0                   2        1      1   \n",
       "4           4      6            0                   6        0      1   \n",
       "\n",
       "                                               tweet  \n",
       "0  !!! RT @mayasolovely: As a woman you shouldn't...  \n",
       "1  !!!!! RT @mleew17: boy dats cold...tyga dwn ba...  \n",
       "2  !!!!!!! RT @UrKindOfBrand Dawg!!!! RT @80sbaby...  \n",
       "3  !!!!!!!!! RT @C_G_Anderson: @viva_based she lo...  \n",
       "4  !!!!!!!!!!!!! RT @ShenikaRoberts: The shit you...  "
      ]
     },
     "execution_count": 2,
     "metadata": {},
     "output_type": "execute_result"
    }
   ],
   "source": [
    "df = pd.read_csv(\"labeled_data.csv\")\n",
    "df.head()"
   ]
  },
  {
   "cell_type": "code",
   "execution_count": 3,
   "metadata": {},
   "outputs": [
    {
     "name": "stdout",
     "output_type": "stream",
     "text": [
      "<class 'pandas.core.frame.DataFrame'>\n",
      "RangeIndex: 24783 entries, 0 to 24782\n",
      "Data columns (total 7 columns):\n",
      " #   Column              Non-Null Count  Dtype \n",
      "---  ------              --------------  ----- \n",
      " 0   Unnamed: 0          24783 non-null  int64 \n",
      " 1   count               24783 non-null  int64 \n",
      " 2   hate_speech         24783 non-null  int64 \n",
      " 3   offensive_language  24783 non-null  int64 \n",
      " 4   neither             24783 non-null  int64 \n",
      " 5   class               24783 non-null  int64 \n",
      " 6   tweet               24783 non-null  object\n",
      "dtypes: int64(6), object(1)\n",
      "memory usage: 1.3+ MB\n"
     ]
    }
   ],
   "source": [
    "df.info()"
   ]
  },
  {
   "cell_type": "code",
   "execution_count": 4,
   "metadata": {},
   "outputs": [],
   "source": [
    "tweet = df[\"tweet\"]"
   ]
  },
  {
   "cell_type": "code",
   "execution_count": 5,
   "metadata": {},
   "outputs": [],
   "source": [
    "corpus = []\n",
    "for i in range(len(df)):\n",
    "  review = re.sub('[^a-zA-Z]', ' ', tweet[i])\n",
    "  review = review.lower()\n",
    "  review = review.split()\n",
    "  ps = PorterStemmer()\n",
    "  all_stopwords = stopwords.words('english')\n",
    "  all_stopwords.remove('not')\n",
    "  review = [ps.stem(word) for word in review if not word in set(all_stopwords)]\n",
    "  review = ' '.join(review)\n",
    "  corpus.append(review)"
   ]
  },
  {
   "cell_type": "code",
   "execution_count": 6,
   "metadata": {},
   "outputs": [],
   "source": [
    "vectorizer = CountVectorizer(max_features = 2000)"
   ]
  },
  {
   "cell_type": "code",
   "execution_count": 7,
   "metadata": {},
   "outputs": [],
   "source": [
    "x = vectorizer.fit_transform(corpus)"
   ]
  },
  {
   "cell_type": "code",
   "execution_count": 8,
   "metadata": {},
   "outputs": [],
   "source": [
    "x = x.toarray()"
   ]
  },
  {
   "cell_type": "code",
   "execution_count": 9,
   "metadata": {},
   "outputs": [],
   "source": [
    "x = x.astype(\"float32\")"
   ]
  },
  {
   "cell_type": "code",
   "execution_count": 10,
   "metadata": {},
   "outputs": [
    {
     "name": "stdout",
     "output_type": "stream",
     "text": [
      "[0 1 2]\n",
      "number of class 0:  1430 number of class 1: 19190 number of class 2: 4163\n"
     ]
    }
   ],
   "source": [
    "labels = df[\"class\"]\n",
    "t = labels.astype(\"int32\")\n",
    "print(np.unique(t))\n",
    "print(\"number of class 0: \", len(df[df[\"class\"] == 0]), \"number of class 1:\", len(df[df[\"class\"] == 1]), \"number of class 2:\", len(df[df[\"class\"] == 2]))"
   ]
  },
  {
   "cell_type": "code",
   "execution_count": 11,
   "metadata": {},
   "outputs": [],
   "source": [
    "\n",
    "x_train, x_test, t_train, t_test = train_test_split(x, t, train_size=0.7, random_state=0)"
   ]
  },
  {
   "cell_type": "code",
   "execution_count": 12,
   "metadata": {},
   "outputs": [],
   "source": [
    "_, n_input = x_train.shape"
   ]
  },
  {
   "cell_type": "code",
   "execution_count": 13,
   "metadata": {},
   "outputs": [],
   "source": [
    "n_output = len(np.unique(t_test))"
   ]
  },
  {
   "cell_type": "code",
   "execution_count": 14,
   "metadata": {},
   "outputs": [],
   "source": [
    "total = len(df)\n",
    "class_weight = {\n",
    "    0: total/len(df[df[\"class\"] == 0]),\n",
    "    1: total/len(df[df[\"class\"] == 1]),\n",
    "    2: total/len(df[df[\"class\"] == 2]),\n",
    "}"
   ]
  },
  {
   "cell_type": "code",
   "execution_count": 15,
   "metadata": {},
   "outputs": [],
   "source": [
    "model = models.Sequential([\n",
    "    layers.Dense(200, input_shape=(n_input, ), activation=\"relu\"),\n",
    "    layers.Dense(n_output, activation=\"softmax\")\n",
    "])\n",
    "\n",
    "optimizer = tf.keras.optimizers.SGD(lr=0.01)\n",
    "model.compile(loss=\"sparse_categorical_crossentropy\",\n",
    "             optimizer=optimizer,\n",
    "             metrics=[\"accuracy\"])"
   ]
  },
  {
   "cell_type": "code",
   "execution_count": 16,
   "metadata": {},
   "outputs": [
    {
     "name": "stdout",
     "output_type": "stream",
     "text": [
      "Epoch 1/50\n",
      "136/136 [==============================] - 2s 14ms/step - loss: 3.1646 - accuracy: 0.7081 - val_loss: 0.9583 - val_accuracy: 0.7416\n",
      "Epoch 2/50\n",
      "136/136 [==============================] - 2s 12ms/step - loss: 2.8516 - accuracy: 0.7540 - val_loss: 0.8368 - val_accuracy: 0.7494\n",
      "Epoch 3/50\n",
      "136/136 [==============================] - 1s 10ms/step - loss: 2.5164 - accuracy: 0.7689 - val_loss: 0.7220 - val_accuracy: 0.7875\n",
      "Epoch 4/50\n",
      "136/136 [==============================] - 1s 10ms/step - loss: 2.2329 - accuracy: 0.7928 - val_loss: 0.6650 - val_accuracy: 0.8066\n",
      "Epoch 5/50\n",
      "136/136 [==============================] - 1s 10ms/step - loss: 2.0085 - accuracy: 0.8106 - val_loss: 0.6306 - val_accuracy: 0.8118\n",
      "Epoch 6/50\n",
      "136/136 [==============================] - 2s 11ms/step - loss: 1.8376 - accuracy: 0.8165 - val_loss: 0.5950 - val_accuracy: 0.8134\n",
      "Epoch 7/50\n",
      "136/136 [==============================] - 2s 11ms/step - loss: 1.7098 - accuracy: 0.8157 - val_loss: 0.5714 - val_accuracy: 0.8134\n",
      "Epoch 8/50\n",
      "136/136 [==============================] - 1s 10ms/step - loss: 1.6138 - accuracy: 0.8185 - val_loss: 0.6010 - val_accuracy: 0.7950\n",
      "Epoch 9/50\n",
      "136/136 [==============================] - 1s 8ms/step - loss: 1.5428 - accuracy: 0.8145 - val_loss: 0.5333 - val_accuracy: 0.8157\n",
      "Epoch 10/50\n",
      "136/136 [==============================] - 2s 12ms/step - loss: 1.4819 - accuracy: 0.8179 - val_loss: 0.5074 - val_accuracy: 0.8196\n",
      "Epoch 11/50\n",
      "136/136 [==============================] - 2s 11ms/step - loss: 1.4312 - accuracy: 0.8196 - val_loss: 0.4867 - val_accuracy: 0.8269\n",
      "Epoch 12/50\n",
      "136/136 [==============================] - 1s 10ms/step - loss: 1.3895 - accuracy: 0.8209 - val_loss: 0.4882 - val_accuracy: 0.8242\n",
      "Epoch 13/50\n",
      "136/136 [==============================] - 1s 9ms/step - loss: 1.3524 - accuracy: 0.8223 - val_loss: 0.4829 - val_accuracy: 0.8278\n",
      "Epoch 14/50\n",
      "136/136 [==============================] - 1s 10ms/step - loss: 1.3184 - accuracy: 0.8263 - val_loss: 0.4909 - val_accuracy: 0.8247\n",
      "Epoch 15/50\n",
      "136/136 [==============================] - 2s 11ms/step - loss: 1.2877 - accuracy: 0.8262 - val_loss: 0.4742 - val_accuracy: 0.8323\n",
      "Epoch 16/50\n",
      "136/136 [==============================] - 1s 11ms/step - loss: 1.2583 - accuracy: 0.8324 - val_loss: 0.5146 - val_accuracy: 0.8122\n",
      "Epoch 17/50\n",
      "136/136 [==============================] - 1s 10ms/step - loss: 1.2340 - accuracy: 0.8292 - val_loss: 0.4822 - val_accuracy: 0.8280\n",
      "Epoch 18/50\n",
      "136/136 [==============================] - 1s 9ms/step - loss: 1.2082 - accuracy: 0.8312 - val_loss: 0.4477 - val_accuracy: 0.8432\n",
      "Epoch 19/50\n",
      "136/136 [==============================] - 2s 12ms/step - loss: 1.1847 - accuracy: 0.8374 - val_loss: 0.4796 - val_accuracy: 0.8277\n",
      "Epoch 20/50\n",
      "136/136 [==============================] - 2s 12ms/step - loss: 1.1635 - accuracy: 0.8383 - val_loss: 0.4975 - val_accuracy: 0.8202\n",
      "Epoch 21/50\n",
      "136/136 [==============================] - 1s 10ms/step - loss: 1.1423 - accuracy: 0.8382 - val_loss: 0.4572 - val_accuracy: 0.8379\n",
      "Epoch 22/50\n",
      "136/136 [==============================] - 1s 9ms/step - loss: 1.1227 - accuracy: 0.8422 - val_loss: 0.4568 - val_accuracy: 0.8371\n",
      "Epoch 23/50\n",
      "136/136 [==============================] - 1s 10ms/step - loss: 1.1029 - accuracy: 0.8454 - val_loss: 0.4568 - val_accuracy: 0.8379\n",
      "Epoch 24/50\n",
      "136/136 [==============================] - 2s 12ms/step - loss: 1.0856 - accuracy: 0.8457 - val_loss: 0.4585 - val_accuracy: 0.8364\n",
      "Epoch 25/50\n",
      "136/136 [==============================] - 1s 10ms/step - loss: 1.0674 - accuracy: 0.8487 - val_loss: 0.4817 - val_accuracy: 0.8247\n",
      "Epoch 26/50\n",
      "136/136 [==============================] - 1s 9ms/step - loss: 1.0521 - accuracy: 0.8479 - val_loss: 0.4501 - val_accuracy: 0.8390\n",
      "Epoch 27/50\n",
      "136/136 [==============================] - 1s 10ms/step - loss: 1.0371 - accuracy: 0.8516 - val_loss: 0.4455 - val_accuracy: 0.8416\n",
      "Epoch 28/50\n",
      "136/136 [==============================] - 2s 12ms/step - loss: 1.0204 - accuracy: 0.8519 - val_loss: 0.4161 - val_accuracy: 0.8542\n",
      "Epoch 29/50\n",
      "136/136 [==============================] - 1s 10ms/step - loss: 1.0059 - accuracy: 0.8546 - val_loss: 0.4383 - val_accuracy: 0.8436\n",
      "Epoch 30/50\n",
      "136/136 [==============================] - 1s 9ms/step - loss: 0.9911 - accuracy: 0.8549 - val_loss: 0.4220 - val_accuracy: 0.8503\n",
      "Epoch 31/50\n",
      "136/136 [==============================] - 1s 10ms/step - loss: 0.9775 - accuracy: 0.8572 - val_loss: 0.4543 - val_accuracy: 0.8373\n",
      "Epoch 32/50\n",
      "136/136 [==============================] - 1s 11ms/step - loss: 0.9640 - accuracy: 0.8579 - val_loss: 0.4287 - val_accuracy: 0.8484\n",
      "Epoch 33/50\n",
      "136/136 [==============================] - 1s 11ms/step - loss: 0.9512 - accuracy: 0.8605 - val_loss: 0.4472 - val_accuracy: 0.8408\n",
      "Epoch 34/50\n",
      "136/136 [==============================] - 1s 10ms/step - loss: 0.9377 - accuracy: 0.8619 - val_loss: 0.4324 - val_accuracy: 0.8461\n",
      "Epoch 35/50\n",
      "136/136 [==============================] - 1s 10ms/step - loss: 0.9261 - accuracy: 0.8640 - val_loss: 0.4351 - val_accuracy: 0.8449\n",
      "Epoch 36/50\n",
      "136/136 [==============================] - 1s 10ms/step - loss: 0.9140 - accuracy: 0.8652 - val_loss: 0.4512 - val_accuracy: 0.8363\n",
      "Epoch 37/50\n",
      "136/136 [==============================] - 2s 11ms/step - loss: 0.9016 - accuracy: 0.8657 - val_loss: 0.4491 - val_accuracy: 0.8387\n",
      "Epoch 38/50\n",
      "136/136 [==============================] - 2s 11ms/step - loss: 0.8912 - accuracy: 0.8691 - val_loss: 0.4336 - val_accuracy: 0.8465\n",
      "Epoch 39/50\n",
      "136/136 [==============================] - 2s 12ms/step - loss: 0.8789 - accuracy: 0.8694 - val_loss: 0.4260 - val_accuracy: 0.8488\n",
      "Epoch 40/50\n",
      "136/136 [==============================] - 2s 12ms/step - loss: 0.8696 - accuracy: 0.8715 - val_loss: 0.4401 - val_accuracy: 0.8409\n",
      "Epoch 41/50\n",
      "136/136 [==============================] - 2s 12ms/step - loss: 0.8580 - accuracy: 0.8728 - val_loss: 0.4097 - val_accuracy: 0.8549\n",
      "Epoch 42/50\n",
      "136/136 [==============================] - 2s 12ms/step - loss: 0.8482 - accuracy: 0.8724 - val_loss: 0.4003 - val_accuracy: 0.8608\n",
      "Epoch 43/50\n",
      "136/136 [==============================] - 2s 11ms/step - loss: 0.8393 - accuracy: 0.8743 - val_loss: 0.4343 - val_accuracy: 0.8438\n",
      "Epoch 44/50\n",
      "136/136 [==============================] - 1s 10ms/step - loss: 0.8292 - accuracy: 0.8764 - val_loss: 0.4154 - val_accuracy: 0.8542\n",
      "Epoch 45/50\n",
      "136/136 [==============================] - 2s 14ms/step - loss: 0.8191 - accuracy: 0.8783 - val_loss: 0.4055 - val_accuracy: 0.8589\n",
      "Epoch 46/50\n",
      "136/136 [==============================] - 1s 10ms/step - loss: 0.8097 - accuracy: 0.8792 - val_loss: 0.4123 - val_accuracy: 0.8557\n",
      "Epoch 47/50\n",
      "136/136 [==============================] - 1s 9ms/step - loss: 0.8020 - accuracy: 0.8818 - val_loss: 0.4370 - val_accuracy: 0.8422\n",
      "Epoch 48/50\n",
      "136/136 [==============================] - 1s 9ms/step - loss: 0.7928 - accuracy: 0.8813 - val_loss: 0.4111 - val_accuracy: 0.8558\n",
      "Epoch 49/50\n",
      "136/136 [==============================] - 2s 11ms/step - loss: 0.7839 - accuracy: 0.8831 - val_loss: 0.4073 - val_accuracy: 0.8589\n",
      "Epoch 50/50\n",
      "136/136 [==============================] - 2s 12ms/step - loss: 0.7769 - accuracy: 0.8842 - val_loss: 0.4298 - val_accuracy: 0.8471\n"
     ]
    }
   ],
   "source": [
    "history = model.fit(\n",
    "    x_train,\n",
    "    t_train,\n",
    "    batch_size=128,\n",
    "    epochs=50,\n",
    "    verbose=1,\n",
    "    validation_data=(x_test, t_test),\n",
    "    class_weight=class_weight\n",
    ")"
   ]
  },
  {
   "cell_type": "code",
   "execution_count": 17,
   "metadata": {},
   "outputs": [
    {
     "data": {
      "text/html": [
       "<div>\n",
       "<style scoped>\n",
       "    .dataframe tbody tr th:only-of-type {\n",
       "        vertical-align: middle;\n",
       "    }\n",
       "\n",
       "    .dataframe tbody tr th {\n",
       "        vertical-align: top;\n",
       "    }\n",
       "\n",
       "    .dataframe thead th {\n",
       "        text-align: right;\n",
       "    }\n",
       "</style>\n",
       "<table border=\"1\" class=\"dataframe\">\n",
       "  <thead>\n",
       "    <tr style=\"text-align: right;\">\n",
       "      <th></th>\n",
       "      <th>loss</th>\n",
       "      <th>accuracy</th>\n",
       "      <th>val_loss</th>\n",
       "      <th>val_accuracy</th>\n",
       "    </tr>\n",
       "  </thead>\n",
       "  <tbody>\n",
       "    <tr>\n",
       "      <th>47</th>\n",
       "      <td>0.792777</td>\n",
       "      <td>0.881312</td>\n",
       "      <td>0.411135</td>\n",
       "      <td>0.855817</td>\n",
       "    </tr>\n",
       "    <tr>\n",
       "      <th>48</th>\n",
       "      <td>0.783915</td>\n",
       "      <td>0.883099</td>\n",
       "      <td>0.407339</td>\n",
       "      <td>0.858911</td>\n",
       "    </tr>\n",
       "    <tr>\n",
       "      <th>49</th>\n",
       "      <td>0.776906</td>\n",
       "      <td>0.884194</td>\n",
       "      <td>0.429779</td>\n",
       "      <td>0.847075</td>\n",
       "    </tr>\n",
       "  </tbody>\n",
       "</table>\n",
       "</div>"
      ],
      "text/plain": [
       "        loss  accuracy  val_loss  val_accuracy\n",
       "47  0.792777  0.881312  0.411135      0.855817\n",
       "48  0.783915  0.883099  0.407339      0.858911\n",
       "49  0.776906  0.884194  0.429779      0.847075"
      ]
     },
     "execution_count": 17,
     "metadata": {},
     "output_type": "execute_result"
    }
   ],
   "source": [
    "results = pd.DataFrame(history.history)\n",
    "results.tail(3)"
   ]
  },
  {
   "cell_type": "code",
   "execution_count": 18,
   "metadata": {},
   "outputs": [
    {
     "data": {
      "text/plain": [
       "Text(0.5, 0, 'epochs')"
      ]
     },
     "execution_count": 18,
     "metadata": {},
     "output_type": "execute_result"
    },
    {
     "data": {
      "image/png": "[encoded data removed]",
      "text/plain": [
       "<Figure size 432x288 with 1 Axes>"
      ]
     },
     "metadata": {
      "needs_background": "light"
     },
     "output_type": "display_data"
    }
   ],
   "source": [
    "results[[\"loss\", \"val_loss\"]].plot(title=\"loss\")\n",
    "plt.xlabel(\"epochs\")"
   ]
  },
  {
   "cell_type": "code",
   "execution_count": 19,
   "metadata": {},
   "outputs": [
    {
     "data": {
      "text/plain": [
       "Text(0.5, 0, 'epochs')"
      ]
     },
     "execution_count": 19,
     "metadata": {},
     "output_type": "execute_result"
    },
    {
     "data": {
      "image/png": "[encoded data removed]",
      "text/plain": [
       "<Figure size 432x288 with 1 Axes>"
      ]
     },
     "metadata": {
      "needs_background": "light"
     },
     "output_type": "display_data"
    }
   ],
   "source": [
    "results[[\"accuracy\", \"val_accuracy\"]].plot(title=\"metric\")\n",
    "plt.xlabel(\"epochs\")"
   ]
  },
  {
   "cell_type": "code",
   "execution_count": null,
   "metadata": {},
   "outputs": [],
   "source": []
  }
 ],
 "metadata": {
  "kernelspec": {
   "display_name": "Python 3",
   "language": "python",
   "name": "python3"
  },
  "language_info": {
   "codemirror_mode": {
    "name": "ipython",
    "version": 3
   },
   "file_extension": ".py",
   "mimetype": "text/x-python",
   "name": "python",
   "nbconvert_exporter": "python",
   "pygments_lexer": "ipython3",
   "version": "3.7.6"
  }
 },
 "nbformat": 4,
 "nbformat_minor": 4
}
